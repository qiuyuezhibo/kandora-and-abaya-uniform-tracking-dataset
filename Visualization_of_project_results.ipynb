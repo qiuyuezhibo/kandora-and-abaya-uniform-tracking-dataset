{
  "nbformat": 4,
  "nbformat_minor": 0,
  "metadata": {
    "colab": {
      "name": "Visualization of project results.ipynb",
      "provenance": [],
      "collapsed_sections": []
    },
    "kernelspec": {
      "name": "python3",
      "display_name": "Python 3"
    },
    "language_info": {
      "name": "python"
    }
  },
  "cells": [
    {
      "cell_type": "code",
      "execution_count": 74,
      "metadata": {
        "colab": {
          "base_uri": "https://localhost:8080/"
        },
        "id": "AyUnYP0K6MwS",
        "outputId": "47e159e3-8a8a-4874-e147-b281f98d5fbb"
      },
      "outputs": [
        {
          "output_type": "stream",
          "name": "stdout",
          "text": [
            "Mounted at /content/drive/\n"
          ]
        }
      ],
      "source": [
        "from google.colab import drive\n",
        "import os\n",
        "drive.mount('/content/drive/', force_remount=True)"
      ]
    },
    {
      "cell_type": "code",
      "source": [
        "import os\n",
        "\n",
        "def get_corordinate(line):\n",
        "    temp = line.split('\\t')\n",
        "    pt1 = [int(temp[0]), int(temp[1])]\n",
        "    pt2 = [int(temp[0])+int(temp[2]),int(temp[1])+int(temp[3])]\n",
        "    pt = [pt1,pt2]\n",
        "    return pt\n",
        "\n",
        "def get_corordinate_2(line):\n",
        "    temp = line.split(',')\n",
        "    pt1 = [float(temp[0]), float(temp[1])]\n",
        "    pt2 = [float(temp[0])+float(temp[2]),float(temp[1])+float(temp[3])]\n",
        "    pt = [pt1,pt2]\n",
        "    return pt\n",
        "\n",
        "path_baseline = r\"/content/drive/My Drive/deep_learning_course_project/baseline\"\n",
        "path_our_baseline = r\"/content/drive/My Drive/deep_learning_course_project/our_baseline\"\n",
        "path_ground_truth = r\"/content/drive/My Drive/deep_learning_course_project/ground_truth\"\n",
        "baseline=[]\n",
        "our_baseline = []\n",
        "ground_truth = []\n",
        "\n",
        "files= sorted(os.listdir(path_baseline)) #得到文件夹下的所有文件名称\n",
        "i=0\n",
        "for file in files: #遍历文件夹\n",
        "    position = path_baseline + '/' + file\n",
        "    baseline.append([])\n",
        "    with open(position, 'r') as f:\n",
        "        lines = f.readlines()\n",
        "        for line in lines:\n",
        "            baseline[i].append(get_corordinate(line))\n",
        "    i = i + 1\n",
        "\n",
        "files_1 = sorted(os.listdir(path_our_baseline)) #得到文件夹下的所有文件名称\n",
        "j=0\n",
        "for file in files_1: #遍历文件夹\n",
        "    position = path_our_baseline + '/' + file\n",
        "    our_baseline.append([])\n",
        "    with open(position, 'r') as f:\n",
        "        lines = f.readlines()\n",
        "        for line in lines:\n",
        "            our_baseline[j].append(get_corordinate(line))\n",
        "    j = j + 1\n",
        "\n",
        "files_2 = sorted(os.listdir(path_ground_truth)) #得到文件夹下的所有文件名称\n",
        "k=0\n",
        "for file in files_2: #遍历文件夹\n",
        "    position = path_ground_truth + '/' + file\n",
        "    ground_truth.append([])\n",
        "    with open(position, 'r') as f:\n",
        "        lines = f.readlines()\n",
        "        for line in lines:\n",
        "            ground_truth[k].append(get_corordinate_2(line))\n",
        "    k = k + 1\n",
        "\n",
        "\n",
        "'''\n",
        "import cv2\n",
        "from PIL import Image\n",
        "from PIL import ImageDraw\n",
        "from google.colab.patches import cv2_imshow\n",
        "\n",
        "img = Image.open(\"/content/drive/My Drive/deep_learning_course_project/frames/person-12/frame000000.jpg\")\n",
        "a = ImageDraw.ImageDraw(img)\n",
        "a.rectangle(((baseline[0][0][0][0],baseline[0][0][0][1]), (baseline[0][0][1][0],baseline[0][0][1][1])), fill=None, outline='red', width=5)\n",
        "a.rectangle(((our_baseline[0][0][0][0],our_baseline[0][0][0][1]), (our_baseline[0][0][1][0],our_baseline[0][0][1][1])), fill=None, outline='green', width=5)\n",
        "a.rectangle(((ground_truth[0][0][0][0],ground_truth[0][0][0][1]), (ground_truth[0][0][1][0],ground_truth[0][0][1][1])), fill=None, outline='blue', width=5)\n",
        "img.save(\"2.jpg\")\n",
        "image = os.path.join(os.getcwd(), '2.jpg')\n",
        "img = cv2.imread(image)\n",
        "cv2_imshow(img)\n",
        "cv2.imwrite('/content/drive/My Drive/test.jpg', img)\n",
        "'''"
      ],
      "metadata": {
        "colab": {
          "base_uri": "https://localhost:8080/",
          "height": 108
        },
        "id": "Z9OgUy2b-r8O",
        "outputId": "99bb6a66-bf23-48f7-aa17-ab1245078162"
      },
      "execution_count": 75,
      "outputs": [
        {
          "output_type": "execute_result",
          "data": {
            "text/plain": [
              "'\\nimport cv2\\nfrom PIL import Image\\nfrom PIL import ImageDraw\\nfrom google.colab.patches import cv2_imshow\\n\\nimg = Image.open(\"/content/drive/My Drive/deep_learning_course_project/frames/person-12/frame000000.jpg\")\\na = ImageDraw.ImageDraw(img)\\na.rectangle(((baseline[0][0][0][0],baseline[0][0][0][1]), (baseline[0][0][1][0],baseline[0][0][1][1])), fill=None, outline=\\'red\\', width=5)\\na.rectangle(((our_baseline[0][0][0][0],our_baseline[0][0][0][1]), (our_baseline[0][0][1][0],our_baseline[0][0][1][1])), fill=None, outline=\\'green\\', width=5)\\na.rectangle(((ground_truth[0][0][0][0],ground_truth[0][0][0][1]), (ground_truth[0][0][1][0],ground_truth[0][0][1][1])), fill=None, outline=\\'blue\\', width=5)\\nimg.save(\"2.jpg\")\\nimage = os.path.join(os.getcwd(), \\'2.jpg\\')\\nimg = cv2.imread(image)\\ncv2_imshow(img)\\ncv2.imwrite(\\'/content/drive/My Drive/test.jpg\\', img)\\n'"
            ],
            "application/vnd.google.colaboratory.intrinsic+json": {
              "type": "string"
            }
          },
          "metadata": {},
          "execution_count": 75
        }
      ]
    },
    {
      "cell_type": "code",
      "source": [
        "import cv2\n",
        "from PIL import Image\n",
        "from PIL import ImageDraw\n",
        "from google.colab.patches import cv2_imshow\n",
        "import numpy as np"
      ],
      "metadata": {
        "id": "6ZX7oKSzK2zG"
      },
      "execution_count": 79,
      "outputs": []
    },
    {
      "cell_type": "code",
      "source": [
        "path_frames = r\"/content/drive/My Drive/deep_learning_course_project/frames\"\n",
        "\n",
        "frames = sorted(os.listdir(path_frames))\n",
        "h=0\n",
        "for frame_folder in frames:\n",
        "  position = path_frames + '/' + frame_folder\n",
        "  position_path = sorted(os.listdir(position))\n",
        "  l=0\n",
        "  for frame in position_path:\n",
        "    frame_path = position + '/' + frame\n",
        "    img = Image.open(frame_path)\n",
        "    a = ImageDraw.ImageDraw(img)\n",
        "    a.rectangle(((baseline[h][l][0][0],baseline[h][l][0][1]), (baseline[h][l][1][0],baseline[h][l][1][1])), fill=None, outline='red', width=5)\n",
        "    a.rectangle(((our_baseline[h][l][0][0],our_baseline[h][l][0][1]), (our_baseline[h][l][1][0],our_baseline[h][l][1][1])), fill=None, outline='green', width=5)\n",
        "    a.rectangle(((ground_truth[h][l][0][0],ground_truth[h][l][0][1]), (ground_truth[h][l][1][0],ground_truth[h][l][1][1])), fill=None, outline='blue', width=5)\n",
        "    l = l+1\n",
        "    file_name = '/content/drive/My Drive/visualize_results' + '/' + 'person_' + str(h+1) + '/' + 'frame_' +str(l) + '.jpg'\n",
        "    img=np.float32(img)\n",
        "    cv2.imwrite(file_name, img)\n",
        "  h=h+1"
      ],
      "metadata": {
        "id": "J_iBwA2-K5br"
      },
      "execution_count": 82,
      "outputs": []
    },
    {
      "cell_type": "code",
      "source": [
        "import cv2\n",
        "import os\n",
        "import random\n",
        "\n",
        "file_direction = '/content/drive/My Drive/visualize_results'\n",
        "\n",
        "for i in range(1,9):\n",
        "  file_direction_person = file_direction + '/' + 'person_' + str(i) +'/'\n",
        "  list = []\n",
        "  for root ,dirs, files in os.walk(file_direction_person):\n",
        "    for file in files:\n",
        "        list.append(file) \n",
        "\n",
        "for i in range(1,9):\n",
        "  video = cv2.VideoWriter('/content/drive/My Drive/video_results' + '/' + 'video_' + str(i) + '.avi',cv2.VideoWriter_fourcc(*'MJPG'),5,(1280,720))\n",
        "  file_direction_person = file_direction + '/' + 'person_' + str(i) +'/'\n",
        "  list = []\n",
        "  for root ,dirs, files in os.walk(file_direction_person):\n",
        "    for file in files:\n",
        "        list.append(file)\n",
        "  for j in range(1,len(list)):\n",
        "    #读取图片\n",
        "    img = cv2.imread(file_direction_person+'frame_'+str(j)+'.jpg')     \n",
        "   \t# resize方法是cv2库提供的更改像素大小的方法\n",
        "    # 将图片转换为1280*720像素大小\n",
        "    img = cv2.resize(img,(1280,720))\n",
        "    # 写入视频\n",
        "    video.write(img)\n",
        "  video.release()"
      ],
      "metadata": {
        "id": "fMCyNAZndy-P"
      },
      "execution_count": 90,
      "outputs": []
    }
  ]
}